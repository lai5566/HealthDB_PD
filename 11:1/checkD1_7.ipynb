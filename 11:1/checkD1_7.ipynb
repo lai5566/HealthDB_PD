{
 "cells": [
  {
   "cell_type": "code",
   "id": "initial_id",
   "metadata": {
    "collapsed": true,
    "ExecuteTime": {
     "end_time": "2024-11-01T10:28:54.585729Z",
     "start_time": "2024-11-01T10:28:54.579715Z"
    }
   },
   "source": [
    "import os\n",
    "import pandas as pd\n",
    "from sas7bdat import SAS7BDAT\n",
    "\n",
    "# 指定目錄路徑\n",
    "directory_out_path = 'data/out/'\n",
    "\n",
    "# 列出資料夾下所有檔名\n",
    "folders_out = [name for name in os.listdir(directory_out_path) if\n",
    "                     os.path.isfile(os.path.join(directory_out_path, name))]\n",
    "\n",
    "# 輸出結果\n",
    "print(folders_out)\n",
    "countOut_01 = len(folders_out)\n",
    "print(\"folders_out have: %d\" % countOut_01)\n",
    "\n",
    "\n",
    "\n"
   ],
   "outputs": [
    {
     "name": "stdout",
     "output_type": "stream",
     "text": [
      "['pass7_d4.csv', 'pass6_d6.csv', 'pass6_d4.csv', 'pass6_d5.csv', 'pass6_d1.csv', 'pass6_d2.csv', 'pass6_d3.csv']\n",
      "folders_out have: 7\n"
     ]
    }
   ],
   "execution_count": 200
  },
  {
   "metadata": {
    "ExecuteTime": {
     "end_time": "2024-11-01T10:28:57.217391Z",
     "start_time": "2024-11-01T10:28:57.189676Z"
    }
   },
   "cell_type": "code",
   "source": [
    "\n",
    "directory_out_path = 'data/out/'\n",
    "df_mOut = pd.DataFrame()\n",
    "totoalRowCount_Out = 0\n",
    "# 多檔案合併df\n",
    "for fileName in folders_out:\n",
    "    #print(folders_Health_01)\n",
    "    # print(f\"{directory_Health_01_path}/{Filename}\")\n",
    "    # print(\"%s/%s\"%(directory_Health_01_path,Filename))\n",
    "    df_ReadOut = pd.read_csv(os.path.join(directory_out_path, fileName))\n",
    "    #df_ReadH1=SAS7BDAT((\"%d/%d\"%(directory_Health_01_path,Filename))).to_data_frame()\n",
    "    nowRead = len(df_ReadOut)\n",
    "    totoalRowCount_Out += nowRead\n",
    "    print(\"%s_nowRead=%d,NowtotoalReadSum=%d\" % (fileName, nowRead, totoalRowCount_Out))\n",
    "    df_mOut = pd.concat([df_mOut, df_ReadOut], axis=0)\n",
    "    print(\"after merged df_mergedH_01 row count %d\\n\" % len(df_mOut))"
   ],
   "id": "e8ae257159450f4d",
   "outputs": [
    {
     "name": "stdout",
     "output_type": "stream",
     "text": [
      "pass7_d4.csv_nowRead=210,NowtotoalReadSum=210\n",
      "after merged df_mergedH_01 row count 210\n",
      "\n",
      "pass6_d6.csv_nowRead=222,NowtotoalReadSum=432\n",
      "after merged df_mergedH_01 row count 432\n",
      "\n",
      "pass6_d4.csv_nowRead=270,NowtotoalReadSum=702\n",
      "after merged df_mergedH_01 row count 702\n",
      "\n",
      "pass6_d5.csv_nowRead=129,NowtotoalReadSum=831\n",
      "after merged df_mergedH_01 row count 831\n",
      "\n",
      "pass6_d1.csv_nowRead=1290,NowtotoalReadSum=2121\n",
      "after merged df_mergedH_01 row count 2121\n",
      "\n",
      "pass6_d2.csv_nowRead=90,NowtotoalReadSum=2211\n",
      "after merged df_mergedH_01 row count 2211\n",
      "\n",
      "pass6_d3.csv_nowRead=780,NowtotoalReadSum=2991\n",
      "after merged df_mergedH_01 row count 2991\n",
      "\n"
     ]
    }
   ],
   "execution_count": 201
  },
  {
   "metadata": {
    "ExecuteTime": {
     "end_time": "2024-11-01T10:29:02.967106Z",
     "start_time": "2024-11-01T10:29:02.962476Z"
    }
   },
   "cell_type": "code",
   "source": "len(df_mOut)#2991",
   "id": "61a99b1e0c8fd095",
   "outputs": [
    {
     "data": {
      "text/plain": [
       "2991"
      ]
     },
     "execution_count": 202,
     "metadata": {},
     "output_type": "execute_result"
    }
   ],
   "execution_count": 202
  },
  {
   "metadata": {
    "ExecuteTime": {
     "end_time": "2024-11-01T09:56:57.973079Z",
     "start_time": "2024-11-01T09:56:57.958375Z"
    }
   },
   "cell_type": "code",
   "source": [
    "tt=pd.read_csv('data/out/F/aa/F_pass7out.csv')\n",
    "len(tt)"
   ],
   "id": "aa0cbfd42892fb87",
   "outputs": [
    {
     "data": {
      "text/plain": [
       "8973"
      ]
     },
     "execution_count": 195,
     "metadata": {},
     "output_type": "execute_result"
    }
   ],
   "execution_count": 195
  },
  {
   "metadata": {
    "ExecuteTime": {
     "end_time": "2024-11-01T10:29:05.737807Z",
     "start_time": "2024-11-01T10:29:05.706738Z"
    }
   },
   "cell_type": "code",
   "source": [
    "import pandas as pd\n",
    "from scipy.stats import fisher_exact\n",
    "from statsmodels.stats.contingency_tables import Table2x2\n",
    "from datetime import datetime\n",
    "\n",
    "# 假设 df_d7_PDandnPD 是您的合并数据集\n",
    "df_d7_PDandnPD = df_mOut\n",
    "\n",
    "# 存储结果的列表\n",
    "results = []\n",
    "sumP=0\n",
    "# 遍历 disease1 到 disease7\n",
    "for n in range(1, 8):\n",
    "    disease_col = f'disease{n}'\n",
    "    \n",
    "    # 筛选出 diseaseN == 1 的样本\n",
    "    # disease_data = df_d1_PDandnPD[df_d1_PDandnPD[disease_col] == 1]\n",
    "    \n",
    "    # 创建 PD 与当前疾病的交叉表\n",
    "    contingency_table = pd.crosstab(df_d7_PDandnPD['PD'], df_d7_PDandnPD[disease_col])\n",
    "    \n",
    "    # 检查表格是否为 2x2\n",
    "    if contingency_table.shape == (2, 2):\n",
    "        # 计算 Odds Ratio 和 p 值\n",
    "        odds_ratio, p_value = fisher_exact(contingency_table)\n",
    "        \n",
    "        # 计算置信区间\n",
    "        table = Table2x2(contingency_table.values)\n",
    "        confidence_interval = table.oddsratio_confint()\n",
    "        \n",
    "        # 记录结果\n",
    "        results.append({\n",
    "            'Disease': disease_col,\n",
    "            'Odds Ratio': odds_ratio,\n",
    "            'p-value': p_value,\n",
    "            'Confidence Interval': confidence_interval\n",
    "        })\n",
    "        \n",
    "        # 输出结果\n",
    "        print(f'\\n{disease_col}:')\n",
    "        print(f'Odds Ratio: {odds_ratio}')\n",
    "        print(f'p-value: {p_value}')\n",
    "        print(f'Confidence Interval: {confidence_interval}')\n",
    "        \n",
    "        # 检查 p 值\n",
    "        if p_value < 0.05:\n",
    "             print(\"Y_顯著\")\n",
    "        else:\n",
    "            print(\"N_不顯著\")\n",
    "            sumP+=1\n",
    "    else:\n",
    "        print(f'\\n{disease_col}:')\n",
    "        print(\"X_交叉表不是 2x2，無法計算統計量\")\n",
    "print(f'countP>0.05={sumP}')"
   ],
   "id": "559d60715a1fbaef",
   "outputs": [
    {
     "name": "stdout",
     "output_type": "stream",
     "text": [
      "\n",
      "disease1:\n",
      "Odds Ratio: 1.1403648853483008\n",
      "p-value: 0.13660821785565835\n",
      "Confidence Interval: (0.9636832921257446, 1.3494392632530563)\n",
      "N_不顯著\n",
      "\n",
      "disease2:\n",
      "Odds Ratio: 0.9845684179427839\n",
      "p-value: 0.9515648388154525\n",
      "Confidence Interval: (0.775558360955881, 1.2499058980108162)\n",
      "N_不顯著\n",
      "\n",
      "disease3:\n",
      "Odds Ratio: 1.1487458698587611\n",
      "p-value: 0.08061161060245808\n",
      "Confidence Interval: (0.986430076069646, 1.3377705176787327)\n",
      "N_不顯著\n",
      "\n",
      "disease4:\n",
      "Odds Ratio: 0.9791389735533566\n",
      "p-value: 0.8056678428037221\n",
      "Confidence Interval: (0.833516848646899, 1.1502024597192744)\n",
      "N_不顯著\n",
      "\n",
      "disease5:\n",
      "Odds Ratio: 0.87194980583087\n",
      "p-value: 0.22020398504988448\n",
      "Confidence Interval: (0.7049977864732766, 1.0784380865815837)\n",
      "N_不顯著\n",
      "\n",
      "disease6:\n",
      "Odds Ratio: 0.9197025744498001\n",
      "p-value: 0.4055545031435899\n",
      "Confidence Interval: (0.7577677008864108, 1.1162429125180975)\n",
      "N_不顯著\n",
      "\n",
      "disease7:\n",
      "Odds Ratio: 1.0959396334890406\n",
      "p-value: 0.4058713863536067\n",
      "Confidence Interval: (0.8837409194404824, 1.3590902648397545)\n",
      "N_不顯著\n",
      "countP>0.05=7\n"
     ]
    }
   ],
   "execution_count": 203
  },
  {
   "metadata": {
    "ExecuteTime": {
     "end_time": "2024-11-01T10:30:06.199647Z",
     "start_time": "2024-11-01T10:30:06.170135Z"
    }
   },
   "cell_type": "code",
   "source": [
    "if sumP ==7:\n",
    "    print('pass')\n",
    "    df_mOut.to_csv('data/out/F/F_pass7out.csv', index=False)"
   ],
   "id": "e41364df22b2b7db",
   "outputs": [
    {
     "name": "stdout",
     "output_type": "stream",
     "text": [
      "pass\n"
     ]
    }
   ],
   "execution_count": 207
  },
  {
   "metadata": {
    "ExecuteTime": {
     "end_time": "2024-11-01T09:56:58.097211Z",
     "start_time": "2024-11-01T09:56:58.096010Z"
    }
   },
   "cell_type": "code",
   "source": "",
   "id": "c115440b4c49319e",
   "outputs": [],
   "execution_count": null
  },
  {
   "metadata": {
    "ExecuteTime": {
     "end_time": "2024-11-01T09:56:58.117827Z",
     "start_time": "2024-11-01T09:56:58.116696Z"
    }
   },
   "cell_type": "code",
   "source": "",
   "id": "9ac1d1511d34ce70",
   "outputs": [],
   "execution_count": null
  }
 ],
 "metadata": {
  "kernelspec": {
   "display_name": "Python 3",
   "language": "python",
   "name": "python3"
  },
  "language_info": {
   "codemirror_mode": {
    "name": "ipython",
    "version": 2
   },
   "file_extension": ".py",
   "mimetype": "text/x-python",
   "name": "python",
   "nbconvert_exporter": "python",
   "pygments_lexer": "ipython2",
   "version": "2.7.6"
  }
 },
 "nbformat": 4,
 "nbformat_minor": 5
}
